{
 "cells": [
  {
   "cell_type": "code",
   "execution_count": 1,
   "metadata": {},
   "outputs": [
    {
     "ename": "ModuleNotFoundError",
     "evalue": "No module named 'funPyModeling'",
     "output_type": "error",
     "traceback": [
      "\u001b[0;31m---------------------------------------------------------------------------\u001b[0m",
      "\u001b[0;31mModuleNotFoundError\u001b[0m                       Traceback (most recent call last)",
      "\u001b[0;32m<ipython-input-1-36427209eea6>\u001b[0m in \u001b[0;36m<module>\u001b[0;34m\u001b[0m\n\u001b[0;32m----> 1\u001b[0;31m \u001b[0;32mimport\u001b[0m \u001b[0mfunPyModeling\u001b[0m\u001b[0;34m\u001b[0m\u001b[0;34m\u001b[0m\u001b[0m\n\u001b[0m",
      "\u001b[0;31mModuleNotFoundError\u001b[0m: No module named 'funPyModeling'"
     ]
    }
   ],
   "source": [
    "import funPyModeling"
   ]
  },
  {
   "cell_type": "code",
   "execution_count": 4,
   "metadata": {},
   "outputs": [
    {
     "data": {
      "text/plain": [
       "['__builtins__',\n",
       " '__cached__',\n",
       " '__doc__',\n",
       " '__file__',\n",
       " '__loader__',\n",
       " '__name__',\n",
       " '__package__',\n",
       " '__spec__',\n",
       " 'coord_plot',\n",
       " 'corr_pair',\n",
       " 'freq_tbl',\n",
       " 'freq_tbl_logic',\n",
       " 'num_vars',\n",
       " 'profiling_num',\n",
       " 'status',\n",
       " 'todf']"
      ]
     },
     "execution_count": 4,
     "metadata": {},
     "output_type": "execute_result"
    }
   ],
   "source": [
    "dir(funPyModeling)"
   ]
  },
  {
   "cell_type": "code",
   "execution_count": 2,
   "metadata": {},
   "outputs": [
    {
     "ename": "ModuleNotFoundError",
     "evalue": "No module named 'funPyModeling'",
     "output_type": "error",
     "traceback": [
      "\u001b[0;31m---------------------------------------------------------------------------\u001b[0m",
      "\u001b[0;31mModuleNotFoundError\u001b[0m                       Traceback (most recent call last)",
      "\u001b[0;32m<ipython-input-2-22645a0491f3>\u001b[0m in \u001b[0;36m<module>\u001b[0;34m\u001b[0m\n\u001b[0;32m----> 1\u001b[0;31m \u001b[0;32mfrom\u001b[0m \u001b[0mfunPyModeling\u001b[0m \u001b[0;32mimport\u001b[0m \u001b[0mfreq_tbl_logic\u001b[0m\u001b[0;34m\u001b[0m\u001b[0;34m\u001b[0m\u001b[0m\n\u001b[0m",
      "\u001b[0;31mModuleNotFoundError\u001b[0m: No module named 'funPyModeling'"
     ]
    }
   ],
   "source": [
    "from funPyModeling import freq_tbl_logic"
   ]
  },
  {
   "cell_type": "code",
   "execution_count": 9,
   "metadata": {},
   "outputs": [
    {
     "ename": "NameError",
     "evalue": "name '_freq_tbl_logic' is not defined",
     "output_type": "error",
     "traceback": [
      "\u001b[0;31m---------------------------------------------------------------------------\u001b[0m",
      "\u001b[0;31mNameError\u001b[0m                                 Traceback (most recent call last)",
      "\u001b[0;32m<ipython-input-9-29575211da4e>\u001b[0m in \u001b[0;36m<module>\u001b[0;34m\u001b[0m\n\u001b[0;32m----> 1\u001b[0;31m \u001b[0m_freq_tbl_logic\u001b[0m\u001b[0;34m\u001b[0m\u001b[0;34m\u001b[0m\u001b[0m\n\u001b[0m",
      "\u001b[0;31mNameError\u001b[0m: name '_freq_tbl_logic' is not defined"
     ]
    }
   ],
   "source": [
    "_freq_tbl_logic"
   ]
  },
  {
   "cell_type": "code",
   "execution_count": 22,
   "metadata": {},
   "outputs": [],
   "source": [
    "import pandas as pd\n",
    "import matplotlib.pyplot as plt\n",
    "import seaborn as sns\n",
    "import numpy as np\n",
    "from pandas.plotting import parallel_coordinates\n",
    "from sklearn.preprocessing import MinMaxScaler"
   ]
  },
  {
   "cell_type": "code",
   "execution_count": 24,
   "metadata": {},
   "outputs": [
    {
     "data": {
      "text/plain": [
       "0         setosa\n",
       "1         setosa\n",
       "2         setosa\n",
       "3         setosa\n",
       "4         setosa\n",
       "         ...    \n",
       "145    virginica\n",
       "146    virginica\n",
       "147    virginica\n",
       "148    virginica\n",
       "149    virginica\n",
       "Name: species, Length: 150, dtype: object"
      ]
     },
     "execution_count": 24,
     "metadata": {},
     "output_type": "execute_result"
    }
   ],
   "source": [
    "iris['species']"
   ]
  },
  {
   "cell_type": "code",
   "execution_count": 23,
   "metadata": {},
   "outputs": [
    {
     "data": {
      "text/plain": [
       "[   sepal_length  sepal_width  petal_length  petal_width     species\n",
       " 0         5.006        3.428         1.462        0.246      setosa\n",
       " 1         5.936        2.770         4.260        1.326  versicolor\n",
       " 2         6.588        2.974         5.552        2.026   virginica,\n",
       "    sepal_length  sepal_width  petal_length  petal_width     species\n",
       " 0      0.000000      1.00000      0.000000     0.000000      setosa\n",
       " 1      0.587863      0.00000      0.684108     0.606742  versicolor\n",
       " 2      1.000000      0.31003      1.000000     1.000000   virginica]"
      ]
     },
     "execution_count": 23,
     "metadata": {},
     "output_type": "execute_result"
    },
    {
     "data": {
      "image/png": "[encoded data removed]",
      "text/plain": [
       "<Figure size 432x288 with 1 Axes>"
      ]
     },
     "metadata": {
      "needs_background": "light"
     },
     "output_type": "display_data"
    }
   ],
   "source": [
    "import seaborn as sns\n",
    "\n",
    "iris = sns.load_dataset('iris')\n",
    "\n",
    "coord_plot(iris, 'species')"
   ]
  },
  {
   "cell_type": "code",
   "execution_count": 14,
   "metadata": {},
   "outputs": [],
   "source": [
    "import pandas as pd\n",
    "import numpy as np"
   ]
  },
  {
   "cell_type": "code",
   "execution_count": 11,
   "metadata": {},
   "outputs": [],
   "source": [
    "def status(data):\n",
    "    if isinstance(data, pd.Series):\n",
    "        data2=pd.DataFrame(data)\n",
    "    else:\n",
    "        data2=data\n",
    "        \n",
    "    if(isinstance(data, np.ndarray)):\n",
    "        data2=pd.DataFrame(data2)\n",
    "\n",
    "        \n",
    "    # total de rows\n",
    "    tot_rows=len(data2)\n",
    "    \n",
    "    # total of nan\n",
    "    d2=data2.isnull().sum().reset_index()\n",
    "    d2.columns=['variable', 'q_nan']\n",
    "    \n",
    "    # percentage of nan\n",
    "    d2[['p_nan']]=d2[['q_nan']]/tot_rows\n",
    "    \n",
    "    # num of zeros\n",
    "    d2['q_zeros']=(data2==0).sum().values\n",
    "\n",
    "    # perc of zeros\n",
    "    d2['p_zeros']=d2[['q_zeros']]/tot_rows\n",
    "\n",
    "    # total unique values\n",
    "    d2['unique']=data2.nunique().values\n",
    "    \n",
    "    # get data types per column\n",
    "    d2['type']=[str(x) for x in data2.dtypes.values]\n",
    "    \n",
    "    return(d2)"
   ]
  },
  {
   "cell_type": "code",
   "execution_count": 13,
   "metadata": {},
   "outputs": [
    {
     "ename": "NameError",
     "evalue": "name 'todf' is not defined",
     "output_type": "error",
     "traceback": [
      "\u001b[0;31m---------------------------------------------------------------------------\u001b[0m",
      "\u001b[0;31mNameError\u001b[0m                                 Traceback (most recent call last)",
      "\u001b[0;32m<ipython-input-13-32928a236ba4>\u001b[0m in \u001b[0;36m<module>\u001b[0;34m\u001b[0m\n\u001b[0;32m----> 1\u001b[0;31m \u001b[0mstatus\u001b[0m\u001b[0;34m(\u001b[0m\u001b[0mtodf\u001b[0m\u001b[0;34m(\u001b[0m\u001b[0;34m[\u001b[0m\u001b[0;36m12\u001b[0m\u001b[0;34m,\u001b[0m\u001b[0;36m2\u001b[0m\u001b[0;34m,\u001b[0m\u001b[0;36m1\u001b[0m\u001b[0;34m]\u001b[0m\u001b[0;34m)\u001b[0m\u001b[0;34m)\u001b[0m\u001b[0;34m\u001b[0m\u001b[0;34m\u001b[0m\u001b[0m\n\u001b[0m",
      "\u001b[0;31mNameError\u001b[0m: name 'todf' is not defined"
     ]
    }
   ],
   "source": [
    "status(todf([12,2,1]))"
   ]
  },
  {
   "cell_type": "code",
   "execution_count": 27,
   "metadata": {},
   "outputs": [
    {
     "ename": "SyntaxError",
     "evalue": "invalid syntax (<ipython-input-27-e472e60b758b>, line 1)",
     "output_type": "error",
     "traceback": [
      "\u001b[0;36m  File \u001b[0;32m\"<ipython-input-27-e472e60b758b>\"\u001b[0;36m, line \u001b[0;32m1\u001b[0m\n\u001b[0;31m    >> import seaborn as sns\u001b[0m\n\u001b[0m     ^\u001b[0m\n\u001b[0;31mSyntaxError\u001b[0m\u001b[0;31m:\u001b[0m invalid syntax\n"
     ]
    }
   ],
   "source": [
    "import seaborn as sns\n",
    "iris = sns.load_dataset('iris')\n"
   ]
  },
  {
   "cell_type": "code",
   "execution_count": 34,
   "metadata": {},
   "outputs": [],
   "source": []
  },
  {
   "cell_type": "code",
   "execution_count": 30,
   "metadata": {},
   "outputs": [],
   "source": [
    "def todf(data):\n",
    "    \"\"\"\n",
    "    It converts almost any object to pandas dataframe. It supports: 1D/2D list, 1D/2D arrays, pandas series. If the object containts +2D it returns an error.\n",
    "    Parameters:\n",
    "    -----------\n",
    "    data: data\n",
    "    \n",
    "    Returns:\n",
    "    --------\n",
    "    A pandas dataframe.\n",
    "\n",
    "    Example:\n",
    "    --------\n",
    "    >> from numpy import array\n",
    "\n",
    "    # Different case study:\n",
    "    >> list_1d = [11, 12, 5, 2] \n",
    "    >> todf(list_1d)\n",
    "    >> list_2d = [[11, 12, 5, 2], [15,24, 6,10], [10, 8, 12, 5], [12,15,8,6]]\n",
    "    >> todf(list_2d)\n",
    "    >> list_3d = [[[11, 12, 5, 2], [15,24, 6,10], [10, 8, 12, 5], [12,15,8,6]]]\n",
    "    >> todf(list_3d)\n",
    "    >> array_1d = array(list_1d)\n",
    "    >> todf(array_1d)\n",
    "    >> array_2d = array(list_2d)\n",
    "    >> todf(array_2d)\n",
    "    >> pd_df=pd.DataFrame({'v1':[11, 12, 5, 2], 'v2':[15,24, 6,10]}) # ok\n",
    "    >> todf(pd_df)\n",
    "    >> pd_series=pd_df.v1\n",
    "    \"\"\"\n",
    "    if isinstance(data, list):\n",
    "        data=np.array(data)\n",
    "\n",
    "    if(len(data.shape))>2:\n",
    "        raise Exception(\"I live in flattland! (can't handle objects with more than 2 dimensions)\") \n",
    "\n",
    "    if isinstance(data, pd.Series):\n",
    "        data2=pd.DataFrame({data.name: data})\n",
    "    elif isinstance(data, np.ndarray):\n",
    "        if(data.shape==1):\n",
    "            data2=pd.DataFrame({'var': data})\n",
    "        else:\n",
    "            data2=pd.DataFrame(data)\n",
    "    else: \n",
    "        data2=data\n",
    "        \n",
    "    return data2\n",
    "\n"
   ]
  },
  {
   "cell_type": "code",
   "execution_count": 68,
   "metadata": {},
   "outputs": [],
   "source": [
    "def corr_pair(data, method='pearson'):\n",
    "    \"\"\"\n",
    "    Parameters:\n",
    "    -----------\n",
    "    data: pandas data frame\n",
    "    \n",
    "    Returns:\n",
    "    --------\n",
    "    A pandas dataframe containing pairwaise correlation\n",
    "\n",
    "    Example:\n",
    "    --------\n",
    "    >> import seaborn as sns\n",
    "    >> iris = sns.load_dataset('iris')\n",
    "    >> # dataframe as input\n",
    "    >> status(iris)\n",
    "    >> # single columns:\n",
    "    >> status(iris['species'])\n",
    "    \"\"\"\n",
    "    d_cor=data.corr(method)\n",
    "\n",
    "    d_cor2=d_cor.reset_index() # generates index as column\n",
    "\n",
    "    d_long=d_cor2.melt(id_vars='index') # to long format, each row 1 var\n",
    "\n",
    "    d_long.columns=['v1', 'v2', 'R']\n",
    "    \n",
    "    d_long[['R2']]=d_long[['R']]**2\n",
    "    \n",
    "    d_long2=d_long.query(\"v1 != v2\") # don't need the auto-correlation\n",
    "\n",
    "    return(d_long2)\n"
   ]
  },
  {
   "cell_type": "code",
   "execution_count": 102,
   "metadata": {},
   "outputs": [
    {
     "data": {
      "text/html": [
       "<div>\n",
       "<style scoped>\n",
       "    .dataframe tbody tr th:only-of-type {\n",
       "        vertical-align: middle;\n",
       "    }\n",
       "\n",
       "    .dataframe tbody tr th {\n",
       "        vertical-align: top;\n",
       "    }\n",
       "\n",
       "    .dataframe thead th {\n",
       "        text-align: right;\n",
       "    }\n",
       "</style>\n",
       "<table border=\"1\" class=\"dataframe\">\n",
       "  <thead>\n",
       "    <tr style=\"text-align: right;\">\n",
       "      <th></th>\n",
       "      <th>sex</th>\n",
       "      <th>frequency</th>\n",
       "      <th>percentage</th>\n",
       "      <th>cumulative_perc</th>\n",
       "    </tr>\n",
       "  </thead>\n",
       "  <tbody>\n",
       "    <tr>\n",
       "      <th>0</th>\n",
       "      <td>Male</td>\n",
       "      <td>157</td>\n",
       "      <td>0.643443</td>\n",
       "      <td>0.643443</td>\n",
       "    </tr>\n",
       "    <tr>\n",
       "      <th>1</th>\n",
       "      <td>Female</td>\n",
       "      <td>87</td>\n",
       "      <td>0.356557</td>\n",
       "      <td>1.000000</td>\n",
       "    </tr>\n",
       "  </tbody>\n",
       "</table>\n",
       "</div>"
      ],
      "text/plain": [
       "      sex  frequency  percentage  cumulative_perc\n",
       "0    Male        157    0.643443         0.643443\n",
       "1  Female         87    0.356557         1.000000"
      ]
     },
     "execution_count": 102,
     "metadata": {},
     "output_type": "execute_result"
    }
   ],
   "source": [
    "import seaborn as sns\n",
    "tips=sns.load_dataset('tips')\n",
    "\n",
    "freq_tbl(tips['sex'])\n"
   ]
  },
  {
   "cell_type": "code",
   "execution_count": 103,
   "metadata": {},
   "outputs": [
    {
     "data": {
      "text/html": [
       "<div>\n",
       "<style scoped>\n",
       "    .dataframe tbody tr th:only-of-type {\n",
       "        vertical-align: middle;\n",
       "    }\n",
       "\n",
       "    .dataframe tbody tr th {\n",
       "        vertical-align: top;\n",
       "    }\n",
       "\n",
       "    .dataframe thead th {\n",
       "        text-align: right;\n",
       "    }\n",
       "</style>\n",
       "<table border=\"1\" class=\"dataframe\">\n",
       "  <thead>\n",
       "    <tr style=\"text-align: right;\">\n",
       "      <th></th>\n",
       "      <th>variable</th>\n",
       "      <th>q_nan</th>\n",
       "      <th>p_nan</th>\n",
       "      <th>q_zeros</th>\n",
       "      <th>p_zeros</th>\n",
       "      <th>unique</th>\n",
       "      <th>type</th>\n",
       "    </tr>\n",
       "  </thead>\n",
       "  <tbody>\n",
       "    <tr>\n",
       "      <th>0</th>\n",
       "      <td>total_bill</td>\n",
       "      <td>0</td>\n",
       "      <td>0.0</td>\n",
       "      <td>0</td>\n",
       "      <td>0.0</td>\n",
       "      <td>229</td>\n",
       "      <td>float64</td>\n",
       "    </tr>\n",
       "    <tr>\n",
       "      <th>1</th>\n",
       "      <td>tip</td>\n",
       "      <td>0</td>\n",
       "      <td>0.0</td>\n",
       "      <td>0</td>\n",
       "      <td>0.0</td>\n",
       "      <td>123</td>\n",
       "      <td>float64</td>\n",
       "    </tr>\n",
       "    <tr>\n",
       "      <th>2</th>\n",
       "      <td>sex</td>\n",
       "      <td>0</td>\n",
       "      <td>0.0</td>\n",
       "      <td>0</td>\n",
       "      <td>0.0</td>\n",
       "      <td>2</td>\n",
       "      <td>category</td>\n",
       "    </tr>\n",
       "    <tr>\n",
       "      <th>3</th>\n",
       "      <td>smoker</td>\n",
       "      <td>0</td>\n",
       "      <td>0.0</td>\n",
       "      <td>0</td>\n",
       "      <td>0.0</td>\n",
       "      <td>2</td>\n",
       "      <td>category</td>\n",
       "    </tr>\n",
       "    <tr>\n",
       "      <th>4</th>\n",
       "      <td>day</td>\n",
       "      <td>0</td>\n",
       "      <td>0.0</td>\n",
       "      <td>0</td>\n",
       "      <td>0.0</td>\n",
       "      <td>4</td>\n",
       "      <td>category</td>\n",
       "    </tr>\n",
       "    <tr>\n",
       "      <th>5</th>\n",
       "      <td>time</td>\n",
       "      <td>0</td>\n",
       "      <td>0.0</td>\n",
       "      <td>0</td>\n",
       "      <td>0.0</td>\n",
       "      <td>2</td>\n",
       "      <td>category</td>\n",
       "    </tr>\n",
       "    <tr>\n",
       "      <th>6</th>\n",
       "      <td>size</td>\n",
       "      <td>0</td>\n",
       "      <td>0.0</td>\n",
       "      <td>0</td>\n",
       "      <td>0.0</td>\n",
       "      <td>6</td>\n",
       "      <td>int64</td>\n",
       "    </tr>\n",
       "  </tbody>\n",
       "</table>\n",
       "</div>"
      ],
      "text/plain": [
       "     variable  q_nan  p_nan  q_zeros  p_zeros  unique      type\n",
       "0  total_bill      0    0.0        0      0.0     229   float64\n",
       "1         tip      0    0.0        0      0.0     123   float64\n",
       "2         sex      0    0.0        0      0.0       2  category\n",
       "3      smoker      0    0.0        0      0.0       2  category\n",
       "4         day      0    0.0        0      0.0       4  category\n",
       "5        time      0    0.0        0      0.0       2  category\n",
       "6        size      0    0.0        0      0.0       6     int64"
      ]
     },
     "execution_count": 103,
     "metadata": {},
     "output_type": "execute_result"
    }
   ],
   "source": [
    "status(tips)"
   ]
  },
  {
   "cell_type": "code",
   "execution_count": 110,
   "metadata": {},
   "outputs": [
    {
     "data": {
      "text/plain": [
       "\u001b[0;31mSignature:\u001b[0m \u001b[0mtodf\u001b[0m\u001b[0;34m(\u001b[0m\u001b[0mdata\u001b[0m\u001b[0;34m)\u001b[0m\u001b[0;34m\u001b[0m\u001b[0;34m\u001b[0m\u001b[0m\n",
       "\u001b[0;31mSource:\u001b[0m   \n",
       "\u001b[0;32mdef\u001b[0m \u001b[0mtodf\u001b[0m\u001b[0;34m(\u001b[0m\u001b[0mdata\u001b[0m\u001b[0;34m)\u001b[0m\u001b[0;34m:\u001b[0m\u001b[0;34m\u001b[0m\n",
       "\u001b[0;34m\u001b[0m    \u001b[0;34m\"\"\"\u001b[0m\n",
       "\u001b[0;34m    It converts almost any object to pandas dataframe. It supports: 1D/2D list, 1D/2D arrays, pandas series. If the object containts +2D it returns an error.\u001b[0m\n",
       "\u001b[0;34m    Parameters:\u001b[0m\n",
       "\u001b[0;34m    -----------\u001b[0m\n",
       "\u001b[0;34m    data: data\u001b[0m\n",
       "\u001b[0;34m    \u001b[0m\n",
       "\u001b[0;34m    Returns:\u001b[0m\n",
       "\u001b[0;34m    --------\u001b[0m\n",
       "\u001b[0;34m    A pandas dataframe.\u001b[0m\n",
       "\u001b[0;34m\u001b[0m\n",
       "\u001b[0;34m    Example:\u001b[0m\n",
       "\u001b[0;34m    --------\u001b[0m\n",
       "\u001b[0;34m    >> from numpy import array\u001b[0m\n",
       "\u001b[0;34m\u001b[0m\n",
       "\u001b[0;34m    # Different case study:\u001b[0m\n",
       "\u001b[0;34m    >> list_1d = [11, 12, 5, 2] \u001b[0m\n",
       "\u001b[0;34m    >> todf(list_1d)\u001b[0m\n",
       "\u001b[0;34m    >> list_2d = [[11, 12, 5, 2], [15,24, 6,10], [10, 8, 12, 5], [12,15,8,6]]\u001b[0m\n",
       "\u001b[0;34m    >> todf(list_2d)\u001b[0m\n",
       "\u001b[0;34m    >> list_3d = [[[11, 12, 5, 2], [15,24, 6,10], [10, 8, 12, 5], [12,15,8,6]]]\u001b[0m\n",
       "\u001b[0;34m    >> todf(list_3d)\u001b[0m\n",
       "\u001b[0;34m    >> array_1d = array(list_1d)\u001b[0m\n",
       "\u001b[0;34m    >> todf(array_1d)\u001b[0m\n",
       "\u001b[0;34m    >> array_2d = array(list_2d)\u001b[0m\n",
       "\u001b[0;34m    >> todf(array_2d)\u001b[0m\n",
       "\u001b[0;34m    >> pd_df=pd.DataFrame({'v1':[11, 12, 5, 2], 'v2':[15,24, 6,10]}) # ok\u001b[0m\n",
       "\u001b[0;34m    >> todf(pd_df)\u001b[0m\n",
       "\u001b[0;34m    >> pd_series=pd_df.v1\u001b[0m\n",
       "\u001b[0;34m    \"\"\"\u001b[0m\u001b[0;34m\u001b[0m\n",
       "\u001b[0;34m\u001b[0m    \u001b[0;32mif\u001b[0m \u001b[0misinstance\u001b[0m\u001b[0;34m(\u001b[0m\u001b[0mdata\u001b[0m\u001b[0;34m,\u001b[0m \u001b[0mlist\u001b[0m\u001b[0;34m)\u001b[0m\u001b[0;34m:\u001b[0m\u001b[0;34m\u001b[0m\n",
       "\u001b[0;34m\u001b[0m        \u001b[0mdata\u001b[0m\u001b[0;34m=\u001b[0m\u001b[0mnp\u001b[0m\u001b[0;34m.\u001b[0m\u001b[0marray\u001b[0m\u001b[0;34m(\u001b[0m\u001b[0mdata\u001b[0m\u001b[0;34m)\u001b[0m\u001b[0;34m\u001b[0m\n",
       "\u001b[0;34m\u001b[0m\u001b[0;34m\u001b[0m\n",
       "\u001b[0;34m\u001b[0m    \u001b[0;32mif\u001b[0m\u001b[0;34m(\u001b[0m\u001b[0mlen\u001b[0m\u001b[0;34m(\u001b[0m\u001b[0mdata\u001b[0m\u001b[0;34m.\u001b[0m\u001b[0mshape\u001b[0m\u001b[0;34m)\u001b[0m\u001b[0;34m)\u001b[0m\u001b[0;34m>\u001b[0m\u001b[0;36m2\u001b[0m\u001b[0;34m:\u001b[0m\u001b[0;34m\u001b[0m\n",
       "\u001b[0;34m\u001b[0m        \u001b[0;32mraise\u001b[0m \u001b[0mException\u001b[0m\u001b[0;34m(\u001b[0m\u001b[0;34m\"I live in flattland! (can't handle objects with more than 2 dimensions)\"\u001b[0m\u001b[0;34m)\u001b[0m \u001b[0;34m\u001b[0m\n",
       "\u001b[0;34m\u001b[0m\u001b[0;34m\u001b[0m\n",
       "\u001b[0;34m\u001b[0m    \u001b[0;32mif\u001b[0m \u001b[0misinstance\u001b[0m\u001b[0;34m(\u001b[0m\u001b[0mdata\u001b[0m\u001b[0;34m,\u001b[0m \u001b[0mpd\u001b[0m\u001b[0;34m.\u001b[0m\u001b[0mSeries\u001b[0m\u001b[0;34m)\u001b[0m\u001b[0;34m:\u001b[0m\u001b[0;34m\u001b[0m\n",
       "\u001b[0;34m\u001b[0m        \u001b[0mdata2\u001b[0m\u001b[0;34m=\u001b[0m\u001b[0mpd\u001b[0m\u001b[0;34m.\u001b[0m\u001b[0mDataFrame\u001b[0m\u001b[0;34m(\u001b[0m\u001b[0;34m{\u001b[0m\u001b[0mdata\u001b[0m\u001b[0;34m.\u001b[0m\u001b[0mname\u001b[0m\u001b[0;34m:\u001b[0m \u001b[0mdata\u001b[0m\u001b[0;34m}\u001b[0m\u001b[0;34m)\u001b[0m\u001b[0;34m\u001b[0m\n",
       "\u001b[0;34m\u001b[0m    \u001b[0;32melif\u001b[0m \u001b[0misinstance\u001b[0m\u001b[0;34m(\u001b[0m\u001b[0mdata\u001b[0m\u001b[0;34m,\u001b[0m \u001b[0mnp\u001b[0m\u001b[0;34m.\u001b[0m\u001b[0mndarray\u001b[0m\u001b[0;34m)\u001b[0m\u001b[0;34m:\u001b[0m\u001b[0;34m\u001b[0m\n",
       "\u001b[0;34m\u001b[0m        \u001b[0;32mif\u001b[0m\u001b[0;34m(\u001b[0m\u001b[0mdata\u001b[0m\u001b[0;34m.\u001b[0m\u001b[0mshape\u001b[0m\u001b[0;34m==\u001b[0m\u001b[0;36m1\u001b[0m\u001b[0;34m)\u001b[0m\u001b[0;34m:\u001b[0m\u001b[0;34m\u001b[0m\n",
       "\u001b[0;34m\u001b[0m            \u001b[0mdata2\u001b[0m\u001b[0;34m=\u001b[0m\u001b[0mpd\u001b[0m\u001b[0;34m.\u001b[0m\u001b[0mDataFrame\u001b[0m\u001b[0;34m(\u001b[0m\u001b[0;34m{\u001b[0m\u001b[0;34m'var'\u001b[0m\u001b[0;34m:\u001b[0m \u001b[0mdata\u001b[0m\u001b[0;34m}\u001b[0m\u001b[0;34m)\u001b[0m\u001b[0;34m\u001b[0m\n",
       "\u001b[0;34m\u001b[0m        \u001b[0;32melse\u001b[0m\u001b[0;34m:\u001b[0m\u001b[0;34m\u001b[0m\n",
       "\u001b[0;34m\u001b[0m            \u001b[0mdata2\u001b[0m\u001b[0;34m=\u001b[0m\u001b[0mpd\u001b[0m\u001b[0;34m.\u001b[0m\u001b[0mDataFrame\u001b[0m\u001b[0;34m(\u001b[0m\u001b[0mdata\u001b[0m\u001b[0;34m)\u001b[0m\u001b[0;34m\u001b[0m\n",
       "\u001b[0;34m\u001b[0m    \u001b[0;32melse\u001b[0m\u001b[0;34m:\u001b[0m \u001b[0;34m\u001b[0m\n",
       "\u001b[0;34m\u001b[0m        \u001b[0mdata2\u001b[0m\u001b[0;34m=\u001b[0m\u001b[0mdata\u001b[0m\u001b[0;34m\u001b[0m\n",
       "\u001b[0;34m\u001b[0m        \u001b[0;34m\u001b[0m\n",
       "\u001b[0;34m\u001b[0m    \u001b[0;32mreturn\u001b[0m \u001b[0mdata2\u001b[0m\u001b[0;34m\u001b[0m\u001b[0;34m\u001b[0m\u001b[0m\n",
       "\u001b[0;31mFile:\u001b[0m      ~/repos/funPyModeling/<ipython-input-30-d1e286bc3946>\n",
       "\u001b[0;31mType:\u001b[0m      function\n"
      ]
     },
     "metadata": {},
     "output_type": "display_data"
    }
   ],
   "source": [
    "todf??"
   ]
  },
  {
   "cell_type": "code",
   "execution_count": 76,
   "metadata": {},
   "outputs": [],
   "source": [
    "tips = sns.load_dataset(\"tips\")"
   ]
  },
  {
   "cell_type": "code",
   "execution_count": 78,
   "metadata": {},
   "outputs": [],
   "source": [
    "def _freq_tbl_logic(var, name):\n",
    "    \"\"\"\n",
    "    For internal use. Related to `freq_tbl`.\n",
    "\n",
    "    Parameters:\n",
    "    -----------\n",
    "    \n",
    "    Returns:\n",
    "    --------\n",
    "\n",
    "    Example:\n",
    "    --------\n",
    "\n",
    "    \"\"\"\n",
    "    cnt=var.value_counts()\n",
    "    df_res=pd.DataFrame({'frequency': var.value_counts(), 'percentage': var.value_counts()/len(var)})\n",
    "    df_res.reset_index(drop=True)\n",
    "    \n",
    "    df_res[name] = df_res.index\n",
    "    \n",
    "    df_res=df_res.reset_index(drop=True)\n",
    "    \n",
    "    df_res['cumulative_perc'] = df_res.percentage.cumsum()/df_res.percentage.sum()\n",
    "    \n",
    "    df_res=df_res[[name, 'frequency', 'percentage', 'cumulative_perc']]\n",
    "    \n",
    "    return df_res\n",
    "\n",
    "\n",
    "\n",
    "def freq_tbl(data):\n",
    "    \"\"\"\n",
    "    Frequency table for categorical variables. It retrieves the frequency, perrcentage and cummulative percentage for each categorical variables (excluding the numerical ones).\n",
    "\n",
    "    Parameters:\n",
    "    -----------\n",
    "    data: pandas series/dataframe, numpy 1D/2D array\n",
    "    \n",
    "    Returns:\n",
    "    --------\n",
    "    If a single variable is passed, then it returns the table with the results (useful to be used in a processes and take actions based on the result.).\n",
    "    If it contains more than one varible, it will print in the console the result for all the categorical variables\n",
    "\n",
    "    Example:\n",
    "    --------\n",
    "    \n",
    "\n",
    "    \"\"\"\n",
    "    data=todf(data)\n",
    "    \n",
    "    cat_v=cat_vars(data)\n",
    "    \n",
    "    if(len(cat_v)>1):\n",
    "        for col in cat_v:\n",
    "            print(_freq_tbl_logic(data[col], name=col))\n",
    "            print('\\n----------------------------------------------------------------\\n')\n",
    "        return cat_v\n",
    "    else:\n",
    "        return _freq_tbl_logic(data.iloc[:,0], name=data.columns[0])\n",
    "    \n",
    "    \n"
   ]
  },
  {
   "cell_type": "code",
   "execution_count": 93,
   "metadata": {},
   "outputs": [],
   "source": [
    "def cat_vars(data, exclude_var=None):\n",
    "    \"\"\"\n",
    "    Returns the categoric variable names. Useful to use with pipelines or any other method in which we need to keep categorical variables. It `exclude_var` can be a list with the variable names to skip in the result. Useful when we want to skip the target variable (i.e. in a data transformation). \n",
    "    It's also available for numeric variables in the function `num_vars()`\n",
    "    \n",
    "    Parameters:\n",
    "    -----------\n",
    "    data: pandas dataframe\n",
    "    exclude_var: list of variable names to exclude from the result\n",
    "    \n",
    "    Returns:\n",
    "    --------\n",
    "    A list with all the categoric variable names.\n",
    "\n",
    "    Example:\n",
    "    --------\n",
    "    >> import seaborn as sns\n",
    "    >> iris = sns.load_dataset('iris')\n",
    "    >> cat_vars(iris)\n",
    "    \"\"\"\n",
    "    cat_v = data.select_dtypes(include=['object','category']).columns\n",
    "    if exclude_var is not None: \n",
    "        cat_v=cat_v.drop(exclude_var)\n",
    "    return cat_v\n",
    "\n"
   ]
  },
  {
   "cell_type": "code",
   "execution_count": 94,
   "metadata": {},
   "outputs": [],
   "source": [
    "cat_v = tips.select_dtypes(include=['object','category']).columns"
   ]
  },
  {
   "cell_type": "code",
   "execution_count": 95,
   "metadata": {},
   "outputs": [
    {
     "data": {
      "text/plain": [
       "Index(['sex', 'smoker', 'day', 'time'], dtype='object')"
      ]
     },
     "execution_count": 95,
     "metadata": {},
     "output_type": "execute_result"
    }
   ],
   "source": [
    "cat_v"
   ]
  },
  {
   "cell_type": "code",
   "execution_count": 98,
   "metadata": {},
   "outputs": [
    {
     "ename": "NameError",
     "evalue": "name 'profiling_num' is not defined",
     "output_type": "error",
     "traceback": [
      "\u001b[0;31m---------------------------------------------------------------------------\u001b[0m",
      "\u001b[0;31mNameError\u001b[0m                                 Traceback (most recent call last)",
      "\u001b[0;32m<ipython-input-98-7bbd271e6bf9>\u001b[0m in \u001b[0;36m<module>\u001b[0;34m\u001b[0m\n\u001b[0;32m----> 1\u001b[0;31m \u001b[0mprofiling_num\u001b[0m\u001b[0;34m(\u001b[0m\u001b[0mtips\u001b[0m\u001b[0;34m)\u001b[0m\u001b[0;34m\u001b[0m\u001b[0;34m\u001b[0m\u001b[0m\n\u001b[0m",
      "\u001b[0;31mNameError\u001b[0m: name 'profiling_num' is not defined"
     ]
    }
   ],
   "source": [
    "profiling_num(tips)"
   ]
  },
  {
   "cell_type": "code",
   "execution_count": 97,
   "metadata": {},
   "outputs": [
    {
     "name": "stdout",
     "output_type": "stream",
     "text": [
      "      sex  frequency  percentage  cumulative_perc\n",
      "0    Male        157    0.643443         0.643443\n",
      "1  Female         87    0.356557         1.000000\n",
      "\n",
      "----------------------------------------------------------------\n",
      "\n",
      "  smoker  frequency  percentage  cumulative_perc\n",
      "0     No        151    0.618852         0.618852\n",
      "1    Yes         93    0.381148         1.000000\n",
      "\n",
      "----------------------------------------------------------------\n",
      "\n",
      "    day  frequency  percentage  cumulative_perc\n",
      "0   Sat         87    0.356557         0.356557\n",
      "1   Sun         76    0.311475         0.668033\n",
      "2  Thur         62    0.254098         0.922131\n",
      "3   Fri         19    0.077869         1.000000\n",
      "\n",
      "----------------------------------------------------------------\n",
      "\n",
      "     time  frequency  percentage  cumulative_perc\n",
      "0  Dinner        176    0.721311         0.721311\n",
      "1   Lunch         68    0.278689         1.000000\n",
      "\n",
      "----------------------------------------------------------------\n",
      "\n"
     ]
    },
    {
     "data": {
      "text/plain": [
       "Index(['sex', 'smoker', 'day', 'time'], dtype='object')"
      ]
     },
     "execution_count": 97,
     "metadata": {},
     "output_type": "execute_result"
    }
   ],
   "source": [
    "freq_tbl(tips)"
   ]
  },
  {
   "cell_type": "code",
   "execution_count": null,
   "metadata": {},
   "outputs": [],
   "source": []
  }
 ],
 "metadata": {
  "kernelspec": {
   "display_name": "Python 3",
   "language": "python",
   "name": "python3"
  },
  "language_info": {
   "codemirror_mode": {
    "name": "ipython",
    "version": 3
   },
   "file_extension": ".py",
   "mimetype": "text/x-python",
   "name": "python",
   "nbconvert_exporter": "python",
   "pygments_lexer": "ipython3",
   "version": "3.7.5"
  }
 },
 "nbformat": 4,
 "nbformat_minor": 4
}
